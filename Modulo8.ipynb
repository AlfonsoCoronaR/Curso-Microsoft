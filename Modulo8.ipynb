{
 "cells": [
  {
   "cell_type": "markdown",
   "metadata": {},
   "source": [
    "# Ejercicios kata 8"
   ]
  },
  {
   "cell_type": "code",
   "execution_count": 34,
   "metadata": {},
   "outputs": [
    {
     "name": "stdout",
     "output_type": "stream",
     "text": [
      "El planeta Mars tiene 2 lunas\n",
      "El planeta Mars tiene una circunferencia polar de 6752 km\n"
     ]
    }
   ],
   "source": [
    "planet = {\n",
    "  \"name\": \"Mars\",\n",
    "  \"moons\": 2\n",
    "}\n",
    "\n",
    "print(f\"El planeta {planet['name']} tiene {planet['moons']} lunas\")\n",
    "\n",
    "planet[\"circunferencia\"] = {\n",
    "  \"polar\": 6752,\n",
    "  \"equatorial\": 6792\n",
    "}\n",
    "\n",
    "print(f\"El planeta {planet['name']} tiene una circunferencia polar de {planet['circunferencia']['polar']} km\")"
   ]
  },
  {
   "cell_type": "code",
   "execution_count": 32,
   "metadata": {},
   "outputs": [
    {
     "name": "stdout",
     "output_type": "stream",
     "text": [
      "214\n",
      "El total de lunas en planet_moons es 214 y en promedio cada planeta tiene 17.833333333333332\n"
     ]
    }
   ],
   "source": [
    "planet_moons = {\n",
    "  'mercury': 0,\n",
    "  'venus': 0,\n",
    "  'earth': 1,\n",
    "  'mars': 2,\n",
    "  'jupiter': 79,\n",
    "  'saturn': 82,\n",
    "  'uranus': 27,\n",
    "  'neptune': 14,\n",
    "  'pluto': 5,\n",
    "  'haumea': 2,\n",
    "  'makemake': 1,\n",
    "  'eris': 1\n",
    "}\n",
    "\n",
    "total_moons = 0\n",
    "\n",
    "moons = planet_moons.values()\n",
    "for moon in moons:\n",
    "  total_moons = total_moons + moon \n",
    "print(total_moons)\n",
    "planets = len(planet_moons)\n",
    "\n",
    "print(f\"El total de lunas en planet_moons es {total_moons} y en promedio cada planeta tiene {total_moons/planets}\")"
   ]
  },
  {
   "cell_type": "markdown",
   "metadata": {},
   "source": [
    "# Apuntes"
   ]
  },
  {
   "cell_type": "code",
   "execution_count": null,
   "metadata": {},
   "outputs": [],
   "source": [
    "planet = {\n",
    "    'name': 'Earth',\n",
    "    'moons': 1\n",
    "}\n",
    "print(planet.get('name'))\n",
    "# planet['name'] es idéntico a usar planet.get('name')\n",
    "print(planet['name'])\n",
    "# Muestra Earth\n",
    "# Usando update\n",
    "planet.update({\n",
    "    'name': 'Jupiter',\n",
    "    'moons': 79\n",
    "})\n",
    "\n",
    "# Usando corchetes\n",
    "planet['name'] = 'Jupiter'\n",
    "planet['moons'] = 79\n",
    "\n",
    "planet['orbital period'] = 4333\n",
    "\n",
    "# el diccionario planet ahora contiene: {\n",
    "#   name: 'jupiter'\n",
    "#   moons: 79\n",
    "#   orbital period: 4333\n",
    "# }\n",
    "\n",
    "planet.pop('orbital period')\n",
    "\n",
    "# el diccionario planet ahora contiene: {\n",
    "#   name: 'jupiter'\n",
    "#   moons: 79\n",
    "# }\n",
    "\n",
    "# Añadimos los datos\n",
    "planet['diameter (km)'] = {\n",
    "    'polar': 133709,\n",
    "    'equatorial': 142984\n",
    "}\n",
    "\n",
    "# el diccionario planet ahora contiene: {\n",
    "#   name: 'Jupiter'\n",
    "#   moons: 79\n",
    "#   diameter (km): {\n",
    "#      polar: 133709\n",
    "#      equatorial: 142984\n",
    "#   }\n",
    "# }\n",
    "\n",
    "# El valor de december: 2.1cm\n",
    "\n",
    "rainfall = {\n",
    "    'october': 3.5,\n",
    "    'november': 4.2,\n",
    "    'december': 2.1\n",
    "}\n",
    "\n",
    "# Si, 'december' existe en rainfall\n",
    "if 'december' in rainfall:\n",
    "    # rainfall [en la posición december] es igual a\n",
    "    # rainfall [en la posición december] + 1 (2.1+1)\n",
    "    rainfall['december'] = rainfall['december'] + 1\n",
    "\n",
    "# Si no:\n",
    "else:\n",
    "\n",
    "    # rainfall [en la posición december] es igual a 1\n",
    "    rainfall['december'] = 1\n",
    "\n",
    "# Como december si existe, el valor será 3.1"
   ]
  }
 ],
 "metadata": {
  "interpreter": {
   "hash": "3f51dfcf902881e95cf2a00d27a549e4a7dd86512e2de185e0cac23c284cee56"
  },
  "kernelspec": {
   "display_name": "Python 3.10.2 64-bit",
   "language": "python",
   "name": "python3"
  },
  "language_info": {
   "codemirror_mode": {
    "name": "ipython",
    "version": 3
   },
   "file_extension": ".py",
   "mimetype": "text/x-python",
   "name": "python",
   "nbconvert_exporter": "python",
   "pygments_lexer": "ipython3",
   "version": "3.10.2"
  },
  "orig_nbformat": 4
 },
 "nbformat": 4,
 "nbformat_minor": 2
}
