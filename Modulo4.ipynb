{
 "cells": [
  {
   "cell_type": "markdown",
   "metadata": {},
   "source": [
    "# Kata modulo 4"
   ]
  },
  {
   "cell_type": "code",
   "execution_count": 11,
   "metadata": {},
   "outputs": [
    {
     "name": "stdout",
     "output_type": "stream",
     "text": [
      " On average, the Moon moves 4cm away from the Earth every year\n",
      " The highest daylight temperature of the Moon is 127 Celcius\n"
     ]
    }
   ],
   "source": [
    "text = \"\"\"Interesting facts about the Moon. The Moon is Earth's only satellite. There are several interesting facts about the Moon and how it affects life here on Earth. On average, the Moon moves 4cm away from the Earth every year. This yearly drift is not significant enough to cause immediate effects on Earth. The highest daylight temperature of the Moon is 127 C.\"\"\"\n",
    "\n",
    "avegare = \"average\"\n",
    "distance = \"distance\"\n",
    "temperature = \"temperature\"\n",
    "\n",
    "dato = \"\"\n",
    "\n",
    "for item in text.split(\".\"):\n",
    "  if item.find(avegare) > 0 or item.find(distance) > 0 or item.find(temperature) > 0:\n",
    "    if item.find('C'):\n",
    "      dato = item.replace('C', 'Celcius')\n",
    "      print(dato)\n",
    "    else:\n",
    "      print(item)"
   ]
  },
  {
   "cell_type": "code",
   "execution_count": 31,
   "metadata": {},
   "outputs": [
    {
     "name": "stdout",
     "output_type": "stream",
     "text": [
      "Curiosidades sobre Moon \n",
      " ------------------------------------------ \n",
      "nombre: Moon\n",
      "gravedad: 0.00162\n",
      "planeta: Earth\n",
      "Curiosidades sobre Ganímedes \n",
      " ------------------------------------------ \n",
      "nombre: Ganímedes\n",
      "gravedad: 1.4300000000000002\n",
      "planeta: Ganímedes\n"
     ]
    }
   ],
   "source": [
    "nombre = \"Moon\"\n",
    "gravedad = 0.00162\n",
    "planeta = \"Earth\"\n",
    "\n",
    "title = f\"Curiosidades sobre {nombre}\"\n",
    "print(f\"{title} \\n ------------------------------------------ \\nnombre: {nombre}\\ngravedad: {gravedad}\\nplaneta: {planeta}\")\n",
    "\n",
    "planeta = 'Marte '\n",
    "gravedad  = 0.00143\n",
    "nombre = 'Ganímedes'\n",
    "\n",
    "title = f\"Curiosidades sobre {nombre}\"\n",
    "\n",
    "plantilla = \"\"\"{title} \\n ------------------------------------------ \\nnombre: {nombre}\\ngravedad: {gravedad}\\nplaneta: {nombre}\"\"\"\n",
    "\n",
    "print(plantilla.format(title = title, nombre = nombre, gravedad = gravedad*1000, planeta = planeta))"
   ]
  },
  {
   "cell_type": "markdown",
   "metadata": {},
   "source": [
    "# Anotaciones"
   ]
  },
  {
   "cell_type": "code",
   "execution_count": 4,
   "metadata": {},
   "outputs": [
    {
     "name": "stdout",
     "output_type": "stream",
     "text": [
      "['temperatures', 'and', 'facts', 'about', 'the', 'moon']\n"
     ]
    }
   ],
   "source": [
    "titulo = 'temperatures and facts about the moon'\n",
    "print(titulo.split())"
   ]
  },
  {
   "cell_type": "code",
   "execution_count": 2,
   "metadata": {},
   "outputs": [
    {
     "data": {
      "text/plain": [
       "'Mars has a daytime temperature of -170 degrees Celsius,\\nwhile Mars has -28 Celsius.'"
      ]
     },
     "execution_count": 2,
     "metadata": {},
     "output_type": "execute_result"
    }
   ],
   "source": [
    "temperatures = \"\"\"Saturn has a daytime temperature of -170 degrees Celsius,\n",
    "... while Mars has -28 Celsius.\"\"\"\n",
    "temperatures.replace('Saturn', 'Mars')"
   ]
  }
 ],
 "metadata": {
  "interpreter": {
   "hash": "3f51dfcf902881e95cf2a00d27a549e4a7dd86512e2de185e0cac23c284cee56"
  },
  "kernelspec": {
   "display_name": "Python 3.10.2 64-bit",
   "language": "python",
   "name": "python3"
  },
  "language_info": {
   "codemirror_mode": {
    "name": "ipython",
    "version": 3
   },
   "file_extension": ".py",
   "mimetype": "text/x-python",
   "name": "python",
   "nbconvert_exporter": "python",
   "pygments_lexer": "ipython3",
   "version": "3.10.2"
  },
  "orig_nbformat": 4
 },
 "nbformat": 4,
 "nbformat_minor": 2
}
