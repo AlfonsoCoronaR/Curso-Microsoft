{
 "cells": [
  {
   "cell_type": "markdown",
   "metadata": {},
   "source": [
    "# Kata modulo 3"
   ]
  },
  {
   "cell_type": "code",
   "execution_count": 2,
   "metadata": {},
   "outputs": [
    {
     "name": "stdout",
     "output_type": "stream",
     "text": [
      "¡Sigue con tu día!\n"
     ]
    }
   ],
   "source": [
    "asteroide = 25\n",
    "if asteroide > 25: \n",
    "  print(\"Alerta!! Se acerca un asteroide\")\n",
    "else:\n",
    "    print('¡Sigue con tu día!')"
   ]
  },
  {
   "cell_type": "code",
   "execution_count": 4,
   "metadata": {},
   "outputs": [
    {
     "name": "stdout",
     "output_type": "stream",
     "text": [
      "No hay nada que ver por el día de hoy\n"
     ]
    }
   ],
   "source": [
    "asteroide = 19\n",
    "if asteroide > 20:\n",
    "  print(\"Puedes ver un rayo de luz desde la tierra\")\n",
    "elif asteroide == 20:\n",
    "  print(\"No puedes ver un rayo de luz desde la tierra\")\n",
    "else:\n",
    "  print(\"No hay nada que ver por el día de hoy\")"
   ]
  },
  {
   "cell_type": "code",
   "execution_count": 5,
   "metadata": {},
   "outputs": [
    {
     "name": "stdout",
     "output_type": "stream",
     "text": [
      "El asteroide causará graves daños a la tierra!!\n"
     ]
    }
   ],
   "source": [
    "velocidad = 26\n",
    "tamaño = 20\n",
    "if velocidad > 25 and tamaño < 25:\n",
    "  print(\"El asteroide causará graves daños a la tierra!!\")\n",
    "elif velocidad >= 20:\n",
    "  print(\"Puedes ver un rayo de luz desde la tierra\")\n",
    "elif tamaño < 25:\n",
    "  print(\"Nada que ver por el día de hoy\")\n",
    "else:\n",
    "  print(\"Todo está en calma\")\n"
   ]
  },
  {
   "cell_type": "markdown",
   "metadata": {},
   "source": [
    "# Anotaciones"
   ]
  },
  {
   "cell_type": "code",
   "execution_count": 9,
   "metadata": {},
   "outputs": [
    {
     "name": "stdout",
     "output_type": "stream",
     "text": [
      "a es igual que b\n"
     ]
    }
   ],
   "source": [
    "a = 27\n",
    "b = 27\n",
    "if a > b:\n",
    "  print(\"a es mayor o igual que b\")\n",
    "elif a == b:\n",
    "  print(\"a es igual que b\")"
   ]
  },
  {
   "cell_type": "code",
   "execution_count": 5,
   "metadata": {},
   "outputs": [
    {
     "name": "stdout",
     "output_type": "stream",
     "text": [
      "93\n"
     ]
    }
   ],
   "source": [
    "a = 93\n",
    "b = 27\n",
    "if a >= b:\n",
    "  print(a)\n",
    "else:\n",
    "  print(b)"
   ]
  },
  {
   "cell_type": "code",
   "execution_count": 2,
   "metadata": {},
   "outputs": [
    {
     "name": "stdout",
     "output_type": "stream",
     "text": [
      "555\n"
     ]
    }
   ],
   "source": [
    "a = 97\n",
    "b = 555\n",
    "# test expression / expresión de prueba\n",
    "if a < b:\n",
    "    # statement to be run / instrucción a ejecutar\n",
    "    print(b)"
   ]
  },
  {
   "cell_type": "code",
   "execution_count": 11,
   "metadata": {},
   "outputs": [
    {
     "name": "stdout",
     "output_type": "stream",
     "text": [
      "a es menor que b\n"
     ]
    }
   ],
   "source": [
    "a = 93\n",
    "b = 270\n",
    "if a > b:\n",
    "  print(\"a es mayor que b\")\n",
    "elif a < b:\n",
    "  print(\"a es menor que b\")\n",
    "else: \n",
    "  print (\"a es igual que b\")"
   ]
  },
  {
   "cell_type": "code",
   "execution_count": 12,
   "metadata": {},
   "outputs": [
    {
     "name": "stdout",
     "output_type": "stream",
     "text": [
      "a es menor que b\n"
     ]
    }
   ],
   "source": [
    "a = 16\n",
    "b = 25\n",
    "c = 27\n",
    "if a > b:\n",
    "  if b > c:\n",
    "      print (\"a es mayor que b y b es mayor que c\")\n",
    "  else: \n",
    "      print (\"a es mayor que b y menor que c\")\n",
    "elif a == b:\n",
    "  print (\"a es igual que b\")\n",
    "else:\n",
    "  print (\"a es menor que b\")"
   ]
  }
 ],
 "metadata": {
  "interpreter": {
   "hash": "3f51dfcf902881e95cf2a00d27a549e4a7dd86512e2de185e0cac23c284cee56"
  },
  "kernelspec": {
   "display_name": "Python 3.10.2 64-bit",
   "language": "python",
   "name": "python3"
  },
  "language_info": {
   "codemirror_mode": {
    "name": "ipython",
    "version": 3
   },
   "file_extension": ".py",
   "mimetype": "text/x-python",
   "name": "python",
   "nbconvert_exporter": "python",
   "pygments_lexer": "ipython3",
   "version": "3.10.2"
  },
  "orig_nbformat": 4
 },
 "nbformat": 4,
 "nbformat_minor": 2
}
