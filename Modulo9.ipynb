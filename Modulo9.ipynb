{
 "cells": [
  {
   "cell_type": "markdown",
   "metadata": {},
   "source": [
    "# Ejercicios kata 9"
   ]
  },
  {
   "cell_type": "markdown",
   "metadata": {},
   "source": [
    "### Ejercicio 1"
   ]
  },
  {
   "cell_type": "code",
   "execution_count": null,
   "metadata": {},
   "outputs": [],
   "source": [
    "def informes(part1, part2, part3):\n",
    "  return print(f\"El promedio de conmbustible entre los tres tanques es: {(part1 + part2 + part3)/3}\")\n",
    "\n",
    "informes(2,3,4)"
   ]
  },
  {
   "cell_type": "code",
   "execution_count": 33,
   "metadata": {},
   "outputs": [
    {
     "name": "stdout",
     "output_type": "stream",
     "text": [
      "4.0\n"
     ]
    }
   ],
   "source": [
    "def promedio(*tanques):\n",
    "  return (sum(tanques)/len(tanques))\n",
    "print(promedio(3,4,5))"
   ]
  },
  {
   "cell_type": "code",
   "execution_count": 29,
   "metadata": {},
   "outputs": [
    {
     "name": "stdout",
     "output_type": "stream",
     "text": [
      "El promedio de conmbustible entre los tres tanques es: 3.0\n"
     ]
    }
   ],
   "source": [
    "def calculo(*tanques):\n",
    "  return (sum(tanques)/3)\n",
    "\n",
    "def informes(tanque1, tanque2, tanque3):\n",
    "  return print(f\"El promedio de conmbustible entre los tres tanques es: {calculo(tanque1, tanque2, tanque3)}\")\n",
    "\n",
    "informes(2,3,4)"
   ]
  },
  {
   "cell_type": "markdown",
   "metadata": {},
   "source": [
    "### Ejercicio 2"
   ]
  },
  {
   "cell_type": "code",
   "execution_count": 35,
   "metadata": {},
   "outputs": [
    {
     "name": "stdout",
     "output_type": "stream",
     "text": [
      "Infome general de lanzamieto:\n",
      "Hora de vuelo: 16:40 horas,\n",
      " tiempo estimado de vuelo: 50 horas,\n",
      " Destino: Marte,\n",
      " Combustible de los tanques: (30, 80)\n"
     ]
    }
   ],
   "source": [
    "def informe_preciso(hora_prelanzamiento, tiempo_vuelo, destino, tanque_externo, tanque_interno):\n",
    "  return print(f\"Infome general de lanzamieto:\\nHora de vuelo: {hora_prelanzamiento} horas,\\n tiempo estimado de vuelo: {tiempo_vuelo} horas,\\n Destino: {destino},\\n Combustible de los tanques: {tanque_externo, tanque_interno}\")\n",
    "\n",
    "informe_preciso(\"16:40\", 50, \"Marte\", 30, 80)"
   ]
  },
  {
   "cell_type": "code",
   "execution_count": 39,
   "metadata": {},
   "outputs": [
    {
     "name": "stdout",
     "output_type": "stream",
     "text": [
      "Destino de la misión: Saturno,\n",
      "  tiempo de espera para el despegue: 50,\n",
      "  tiempo de vuelo: 80,\n",
      "  tiempo de espera en el espacio35,\n",
      "  tiempo total: 165,\n",
      "  combustible de tanques: {'externo1': 20, 'externo2': 35, 'principal': 80}\n"
     ]
    }
   ],
   "source": [
    "def informe_mas_preciso(destino, *horas, **tanques):\n",
    "  return (\n",
    "  f\"\"\"Destino de la misión: {destino},\n",
    "  tiempo de espera para el despegue: {horas[0]},\n",
    "  tiempo de vuelo: {horas[1]},\n",
    "  tiempo de espera en el espacio{horas[2]},\n",
    "  tiempo total: {sum(horas)},\n",
    "  combustible de tanques: {tanques}\"\"\"\n",
    "  )\n",
    "print(informe_mas_preciso(\"Saturno\", 50, 80, 35, externo1=20, externo2=35, principal=80))"
   ]
  },
  {
   "cell_type": "markdown",
   "metadata": {},
   "source": [
    "# Apuntes"
   ]
  },
  {
   "cell_type": "code",
   "execution_count": 4,
   "metadata": {},
   "outputs": [
    {
     "data": {
      "text/plain": [
       "'payload, propellant, structure'"
      ]
     },
     "execution_count": 4,
     "metadata": {},
     "output_type": "execute_result"
    }
   ],
   "source": [
    "# Defino mi función\n",
    "def rocket_parts():\n",
    "    return 'payload, propellant, structure'\n",
    "\n",
    "var = rocket_parts() \n",
    "var "
   ]
  },
  {
   "cell_type": "code",
   "execution_count": 9,
   "metadata": {},
   "outputs": [
    {
     "data": {
      "text/plain": [
       "'238,855'"
      ]
     },
     "execution_count": 9,
     "metadata": {},
     "output_type": "execute_result"
    }
   ],
   "source": [
    "def distance_from_earth(destination):\n",
    "  if destination == 'Moon':\n",
    "    return '238,855'\n",
    "  else:\n",
    "    return 'Unable to compute to that destination'\n",
    "\n",
    "distance_from_earth('Moon')"
   ]
  },
  {
   "cell_type": "code",
   "execution_count": 12,
   "metadata": {},
   "outputs": [
    {
     "data": {
      "text/plain": [
       "9"
      ]
     },
     "execution_count": 12,
     "metadata": {},
     "output_type": "execute_result"
    }
   ],
   "source": [
    "def days_to_complete(distance, speed):\n",
    "    hours = distance/speed\n",
    "    return round(hours/24)\n",
    "\n",
    "days_to_complete(513246, 2356)"
   ]
  },
  {
   "cell_type": "code",
   "execution_count": 17,
   "metadata": {},
   "outputs": [
    {
     "data": {
      "text/plain": [
       "'México Arrival: Sunday 10:45'"
      ]
     },
     "execution_count": 17,
     "metadata": {},
     "output_type": "execute_result"
    }
   ],
   "source": [
    "from datetime import timedelta, datetime\n",
    "\n",
    "def arrival_time(destination, hours=51):\n",
    "    now = datetime.now()\n",
    "    arrival = now + timedelta(hours=hours)\n",
    "    return arrival.strftime(f'{destination} Arrival: %A %H:%M')\n",
    "\n",
    "arrival_time(\"México\", 0)"
   ]
  },
  {
   "cell_type": "code",
   "execution_count": 18,
   "metadata": {},
   "outputs": [
    {
     "data": {
      "text/plain": [
       "'Total time to launch is 37 minutes'"
      ]
     },
     "execution_count": 18,
     "metadata": {},
     "output_type": "execute_result"
    }
   ],
   "source": [
    "def sequence_time(*args):\n",
    "    total_minutes = sum(args)\n",
    "    if total_minutes < 60:\n",
    "        return f'Total time to launch is {total_minutes} minutes'\n",
    "    else:\n",
    "        return f'Total time to launch is {total_minutes/60} hours'\n",
    "\n",
    "sequence_time(2,5,6,7,8,9)"
   ]
  },
  {
   "cell_type": "code",
   "execution_count": 19,
   "metadata": {},
   "outputs": [
    {
     "name": "stdout",
     "output_type": "stream",
     "text": [
      "3 astronauts assigned for this mission:\n",
      "captain: Neil Armstrong\n",
      "pilot: Buzz Aldrin\n",
      "command_pilot: Michael Collins\n"
     ]
    }
   ],
   "source": [
    "def crew_members(**kwargs):\n",
    "    print(f'{len(kwargs)} astronauts assigned for this mission:')\n",
    "    for title, name in kwargs.items():\n",
    "        print(f'{title}: {name}')\n",
    "crew_members(captain='Neil Armstrong', pilot='Buzz Aldrin', command_pilot='Michael Collins')"
   ]
  }
 ],
 "metadata": {
  "interpreter": {
   "hash": "3f51dfcf902881e95cf2a00d27a549e4a7dd86512e2de185e0cac23c284cee56"
  },
  "kernelspec": {
   "display_name": "Python 3.10.2 64-bit",
   "language": "python",
   "name": "python3"
  },
  "language_info": {
   "codemirror_mode": {
    "name": "ipython",
    "version": 3
   },
   "file_extension": ".py",
   "mimetype": "text/x-python",
   "name": "python",
   "nbconvert_exporter": "python",
   "pygments_lexer": "ipython3",
   "version": "3.10.2"
  },
  "orig_nbformat": 4
 },
 "nbformat": 4,
 "nbformat_minor": 2
}
