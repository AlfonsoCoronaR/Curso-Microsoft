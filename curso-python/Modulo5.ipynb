{
 "cells": [
  {
   "cell_type": "markdown",
   "metadata": {},
   "source": [
    "# Anotaciones"
   ]
  },
  {
   "cell_type": "code",
   "execution_count": 5,
   "metadata": {},
   "outputs": [
    {
     "name": "stdout",
     "output_type": "stream",
     "text": [
      "17\n",
      "22\n"
     ]
    }
   ],
   "source": [
    "seconds = 1042\n",
    "display_minutes = 1042 // 60\n",
    "display_seconds = 1042 % 60\n",
    "\n",
    "print(display_minutes)\n",
    "print(display_seconds)"
   ]
  },
  {
   "cell_type": "code",
   "execution_count": 6,
   "metadata": {},
   "outputs": [
    {
     "name": "stdout",
     "output_type": "stream",
     "text": [
      "215\n",
      "215.3\n"
     ]
    }
   ],
   "source": [
    "demo_int = int('215')\n",
    "print(demo_int)\n",
    "\n",
    "demo_float = float('215.3')\n",
    "print(demo_float)"
   ]
  },
  {
   "cell_type": "code",
   "execution_count": 7,
   "metadata": {},
   "outputs": [
    {
     "name": "stdout",
     "output_type": "stream",
     "text": [
      "23\n"
     ]
    }
   ],
   "source": [
    "a = 39 - 16\n",
    "b = 16 - 39\n",
    "\n",
    "print(abs(b))"
   ]
  },
  {
   "cell_type": "markdown",
   "metadata": {},
   "source": [
    "# Kata Modulo 4"
   ]
  },
  {
   "cell_type": "code",
   "execution_count": 11,
   "metadata": {},
   "outputs": [
    {
     "name": "stdout",
     "output_type": "stream",
     "text": [
      "la distancia que hay de marte a la tierra es: 628949330 km ó 390577533.93 millas\n"
     ]
    }
   ],
   "source": [
    "tierra = 149597870\n",
    "marte = 778547200\n",
    "distancia = abs(marte - tierra)\n",
    "print(f\"la distancia que hay de marte a la tierra es: {distancia} km ó {distancia * 0.621} millas\")"
   ]
  },
  {
   "cell_type": "code",
   "execution_count": 13,
   "metadata": {},
   "outputs": [
    {
     "name": "stdout",
     "output_type": "stream",
     "text": [
      "la distancia que hay entre los dos planetas es: 4437200000 km o 2755501200.0 millas\n"
     ]
    }
   ],
   "source": [
    "planeta1 = input(\"Inserta la distancia del sol al planeta 1:\")\n",
    "planeta1 = int(planeta1)\n",
    "planeta2 = input(\"Inserta la distancia del sol al planeta 2:\")\n",
    "planeta2 = int(planeta2)\n",
    "\n",
    "print(f\"la distancia que hay entre los dos planetas es: {abs(planeta1 - planeta2)} km o {abs((planeta1 - planeta2)*0.621)} millas\")\n"
   ]
  }
 ],
 "metadata": {
  "interpreter": {
   "hash": "3f51dfcf902881e95cf2a00d27a549e4a7dd86512e2de185e0cac23c284cee56"
  },
  "kernelspec": {
   "display_name": "Python 3.10.2 64-bit",
   "language": "python",
   "name": "python3"
  },
  "language_info": {
   "codemirror_mode": {
    "name": "ipython",
    "version": 3
   },
   "file_extension": ".py",
   "mimetype": "text/x-python",
   "name": "python",
   "nbconvert_exporter": "python",
   "pygments_lexer": "ipython3",
   "version": "3.10.2"
  },
  "orig_nbformat": 4
 },
 "nbformat": 4,
 "nbformat_minor": 2
}
